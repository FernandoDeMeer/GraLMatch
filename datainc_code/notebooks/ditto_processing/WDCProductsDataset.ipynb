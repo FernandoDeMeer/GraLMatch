{
 "cells": [
  {
   "cell_type": "code",
   "execution_count": 1,
   "metadata": {},
   "outputs": [
    {
     "data": {
      "text/plain": [
       "'/home/claude/development/datainc/datainc_code'"
      ]
     },
     "execution_count": 1,
     "metadata": {},
     "output_type": "execute_result"
    }
   ],
   "source": [
    "import os\n",
    "if os.getcwd().split('/')[-1] == 'ditto_processing':\n",
    "    os.chdir('../../')\n",
    "os.getcwd()"
   ]
  },
  {
   "cell_type": "code",
   "execution_count": 2,
   "metadata": {},
   "outputs": [],
   "source": [
    "import pandas as pd\n",
    "import numpy as np\n",
    "from tqdm.auto import tqdm\n"
   ]
  },
  {
   "cell_type": "code",
   "execution_count": 3,
   "metadata": {},
   "outputs": [],
   "source": [
    "entity_data_path = 'data/raw/wdc_80pair/wdc_80pair.csv'\n",
    " \n",
    "train_matches_path = 'data/raw/wdc_80pair/train.csv'\n",
    "val_matches_path = 'data/raw/wdc_80pair/val.csv'\n",
    "test_matches_path = 'data/raw/wdc_80pair/test.csv'\n",
    " \n",
    "graph_test_candidates_path = 'data/processed/wdc/full_test_candidates.csv'"
   ]
  },
  {
   "cell_type": "code",
   "execution_count": 16,
   "metadata": {},
   "outputs": [
    {
     "data": {
      "text/html": [
       "<div>\n",
       "<style scoped>\n",
       "    .dataframe tbody tr th:only-of-type {\n",
       "        vertical-align: middle;\n",
       "    }\n",
       "\n",
       "    .dataframe tbody tr th {\n",
       "        vertical-align: top;\n",
       "    }\n",
       "\n",
       "    .dataframe thead th {\n",
       "        text-align: right;\n",
       "    }\n",
       "</style>\n",
       "<table border=\"1\" class=\"dataframe\">\n",
       "  <thead>\n",
       "    <tr style=\"text-align: right;\">\n",
       "      <th></th>\n",
       "      <th>brand</th>\n",
       "      <th>title</th>\n",
       "      <th>description</th>\n",
       "      <th>price</th>\n",
       "      <th>priceCurrency</th>\n",
       "    </tr>\n",
       "    <tr>\n",
       "      <th>id</th>\n",
       "      <th></th>\n",
       "      <th></th>\n",
       "      <th></th>\n",
       "      <th></th>\n",
       "      <th></th>\n",
       "    </tr>\n",
       "  </thead>\n",
       "  <tbody>\n",
       "    <tr>\n",
       "      <th>533407</th>\n",
       "      <td>Western Digital</td>\n",
       "      <td>WD Blue SN550 1TB M.2 SSD</td>\n",
       "      <td>(Solid, 1TB, Blue, Drive), M.2, SN550, SSD, St...</td>\n",
       "      <td>119</td>\n",
       "      <td>EUR</td>\n",
       "    </tr>\n",
       "    <tr>\n",
       "      <th>22587878</th>\n",
       "      <td>NaN</td>\n",
       "      <td>TP-Link AC600 Nano Wireless USB Adapter</td>\n",
       "      <td>High Speed WiFi, Dual Band Wireless, Nano desi...</td>\n",
       "      <td>12.48</td>\n",
       "      <td>GBP</td>\n",
       "    </tr>\n",
       "    <tr>\n",
       "      <th>25725051</th>\n",
       "      <td>AMD</td>\n",
       "      <td>AMD Ryzen 5 2600X - 4.25 GHz - 6-core - 12 thr...</td>\n",
       "      <td>IcecatLive.getDatasheet('#IcecatLive',{'UserNa...</td>\n",
       "      <td>296.39</td>\n",
       "      <td>EUR</td>\n",
       "    </tr>\n",
       "  </tbody>\n",
       "</table>\n",
       "</div>"
      ],
      "text/plain": [
       "                    brand                                              title  \\\n",
       "id                                                                             \n",
       "533407    Western Digital                          WD Blue SN550 1TB M.2 SSD   \n",
       "22587878              NaN            TP-Link AC600 Nano Wireless USB Adapter   \n",
       "25725051              AMD  AMD Ryzen 5 2600X - 4.25 GHz - 6-core - 12 thr...   \n",
       "\n",
       "                                                description   price  \\\n",
       "id                                                                    \n",
       "533407    (Solid, 1TB, Blue, Drive), M.2, SN550, SSD, St...     119   \n",
       "22587878  High Speed WiFi, Dual Band Wireless, Nano desi...   12.48   \n",
       "25725051  IcecatLive.getDatasheet('#IcecatLive',{'UserNa...  296.39   \n",
       "\n",
       "         priceCurrency  \n",
       "id                      \n",
       "533407             EUR  \n",
       "22587878           GBP  \n",
       "25725051           EUR  "
      ]
     },
     "metadata": {},
     "output_type": "display_data"
    },
    {
     "name": "stdout",
     "output_type": "stream",
     "text": [
      "(4841, 5)\n"
     ]
    }
   ],
   "source": [
    "entity_df = pd.read_csv(entity_data_path)\n",
    "entity_df.set_index('id', inplace=True)\n",
    "\n",
    "display(entity_df[:3])\n",
    "print(entity_df.shape)"
   ]
  },
  {
   "cell_type": "code",
   "execution_count": 17,
   "metadata": {},
   "outputs": [],
   "source": [
    "def ditto_encode_record(row):\n",
    "    accu = []\n",
    "    col_names = list(row.index)\n",
    "    if 'id' in col_names:\n",
    "        col_names.remove('id')\n",
    "    if 'ditto_encoded' in col_names:\n",
    "        col_names.remove('ditto_encoded')\n",
    "    if 'Unnamed: 0' in col_names:\n",
    "        col_names.remove('Unnamed: 0')\n",
    "\n",
    "    for col_name in col_names:\n",
    "        value = '-' if pd.isna(row[col_name]) else row[col_name]\n",
    "        accu.append(f\"COL {col_name} VAL {value}\")\n",
    "    return \" \".join(accu)\n",
    "\n",
    "entity_df['ditto_encoded'] = entity_df.apply(ditto_encode_record, axis=1)"
   ]
  },
  {
   "cell_type": "code",
   "execution_count": 18,
   "metadata": {},
   "outputs": [
    {
     "name": "stdout",
     "output_type": "stream",
     "text": [
      "train (19835)\n",
      "val (4500)\n",
      "test (4500)\n",
      "graph_test_candidates (9166)\n"
     ]
    }
   ],
   "source": [
    "data = dict()\n",
    "path_list = [\n",
    "    ('train', train_matches_path),\n",
    "    ('val', val_matches_path),\n",
    "    ('test', test_matches_path),\n",
    "    ('graph_test_candidates', graph_test_candidates_path)\n",
    "]\n",
    "\n",
    "for name, path in path_list:\n",
    "    data[name] = pd.read_csv(path)\n",
    "    \n",
    "    print(f\"{name} ({data[name].shape[0]})\")\n",
    "    #display(data[name][:3])\n"
   ]
  },
  {
   "cell_type": "code",
   "execution_count": 19,
   "metadata": {},
   "outputs": [],
   "source": [
    "def build_ditto_dataset(df, file_path):\n",
    "    if os.path.exists(file_path):\n",
    "        os.remove(file_path)\n",
    "        print(f\"Removed existing file at {file_path}\")\n",
    "    \n",
    "    data = []\n",
    "\n",
    "    for i, row in tqdm(df.iterrows(), total=df.shape[0], desc='Encoding Rows for Ditto...'):\n",
    "        lid, rid, label = row['lid'], row['rid'], row['label']\n",
    "\n",
    "        left_encoded = entity_df.loc[lid, 'ditto_encoded'].replace('\\t', ' ').replace('\\r', ' ').replace('\\n', ' ')\n",
    "        right_encoded = entity_df.loc[rid, 'ditto_encoded'].replace('\\t', ' ').replace('\\r', ' ').replace('\\n', ' ')\n",
    "\n",
    "        data.append(f\"{left_encoded}\\t{right_encoded}\\t{label}\")\n",
    "\n",
    "    with open(file_path, 'w') as f:\n",
    "        for line in tqdm(data, total=len(data), desc='Writing to file...'):\n",
    "            f.write(line)\n",
    "            f.write(os.linesep)\n",
    "\n",
    "    print(f\"Saved at: {file_path}\")"
   ]
  },
  {
   "cell_type": "code",
   "execution_count": 20,
   "metadata": {},
   "outputs": [
    {
     "data": {
      "application/vnd.jupyter.widget-view+json": {
       "model_id": "3ac94dcdcbc54fda91767dea2bc9f93e",
       "version_major": 2,
       "version_minor": 0
      },
      "text/plain": [
       "Encoding Rows for Ditto...:   0%|          | 0/19835 [00:00<?, ?it/s]"
      ]
     },
     "metadata": {},
     "output_type": "display_data"
    },
    {
     "data": {
      "application/vnd.jupyter.widget-view+json": {
       "model_id": "a94b9b4741cd41a5a9bbfa8fe22db823",
       "version_major": 2,
       "version_minor": 0
      },
      "text/plain": [
       "Writing to file...:   0%|          | 0/19835 [00:00<?, ?it/s]"
      ]
     },
     "metadata": {},
     "output_type": "display_data"
    },
    {
     "name": "stdout",
     "output_type": "stream",
     "text": [
      "Saved at: ../datainc_code/data/processed/ditto/wdc_products/train.txt\n"
     ]
    },
    {
     "data": {
      "application/vnd.jupyter.widget-view+json": {
       "model_id": "692ff4c91ef04cb1b6c5b220b9361e9d",
       "version_major": 2,
       "version_minor": 0
      },
      "text/plain": [
       "Encoding Rows for Ditto...:   0%|          | 0/4500 [00:00<?, ?it/s]"
      ]
     },
     "metadata": {},
     "output_type": "display_data"
    },
    {
     "data": {
      "application/vnd.jupyter.widget-view+json": {
       "model_id": "a7b6a2d9e9c74e6fb1782ad3ffb57ede",
       "version_major": 2,
       "version_minor": 0
      },
      "text/plain": [
       "Writing to file...:   0%|          | 0/4500 [00:00<?, ?it/s]"
      ]
     },
     "metadata": {},
     "output_type": "display_data"
    },
    {
     "name": "stdout",
     "output_type": "stream",
     "text": [
      "Saved at: ../datainc_code/data/processed/ditto/wdc_products/val.txt\n"
     ]
    },
    {
     "data": {
      "application/vnd.jupyter.widget-view+json": {
       "model_id": "9aef14b440ef4a399bcbd476f17fb9ee",
       "version_major": 2,
       "version_minor": 0
      },
      "text/plain": [
       "Encoding Rows for Ditto...:   0%|          | 0/4500 [00:00<?, ?it/s]"
      ]
     },
     "metadata": {},
     "output_type": "display_data"
    },
    {
     "data": {
      "application/vnd.jupyter.widget-view+json": {
       "model_id": "4e27a2cbfe1e4c9dac2528e23893fc13",
       "version_major": 2,
       "version_minor": 0
      },
      "text/plain": [
       "Writing to file...:   0%|          | 0/4500 [00:00<?, ?it/s]"
      ]
     },
     "metadata": {},
     "output_type": "display_data"
    },
    {
     "name": "stdout",
     "output_type": "stream",
     "text": [
      "Saved at: ../datainc_code/data/processed/ditto/wdc_products/test.txt\n"
     ]
    },
    {
     "data": {
      "application/vnd.jupyter.widget-view+json": {
       "model_id": "23b45b27914748a3a2606ba2a5722458",
       "version_major": 2,
       "version_minor": 0
      },
      "text/plain": [
       "Encoding Rows for Ditto...:   0%|          | 0/9166 [00:00<?, ?it/s]"
      ]
     },
     "metadata": {},
     "output_type": "display_data"
    },
    {
     "data": {
      "application/vnd.jupyter.widget-view+json": {
       "model_id": "49768cb35b6d4243a4f627729db0deda",
       "version_major": 2,
       "version_minor": 0
      },
      "text/plain": [
       "Writing to file...:   0%|          | 0/9166 [00:00<?, ?it/s]"
      ]
     },
     "metadata": {},
     "output_type": "display_data"
    },
    {
     "name": "stdout",
     "output_type": "stream",
     "text": [
      "Saved at: ../datainc_code/data/processed/ditto/wdc_products/graph_test_candidates.txt\n"
     ]
    }
   ],
   "source": [
    "os.makedirs('../datainc_code/data/processed/ditto/wdc_products', exist_ok=True)\n",
    "\n",
    "build_ditto_dataset(data['train'], '../datainc_code/data/processed/ditto/wdc_products/train.txt')\n",
    "build_ditto_dataset(data['val'], '../datainc_code/data/processed/ditto/wdc_products/val.txt')\n",
    "build_ditto_dataset(data['test'], '../datainc_code/data/processed/ditto/wdc_products/test.txt')\n",
    "\n",
    "build_ditto_dataset(data['graph_test_candidates'], '../datainc_code/data/processed/ditto/wdc_products/graph_test_candidates.txt')"
   ]
  },
  {
   "cell_type": "code",
   "execution_count": null,
   "metadata": {},
   "outputs": [],
   "source": []
  }
 ],
 "metadata": {
  "kernelspec": {
   "display_name": "env",
   "language": "python",
   "name": "python3"
  },
  "language_info": {
   "codemirror_mode": {
    "name": "ipython",
    "version": 3
   },
   "file_extension": ".py",
   "mimetype": "text/x-python",
   "name": "python",
   "nbconvert_exporter": "python",
   "pygments_lexer": "ipython3",
   "version": "3.8.10"
  },
  "orig_nbformat": 4
 },
 "nbformat": 4,
 "nbformat_minor": 2
}
