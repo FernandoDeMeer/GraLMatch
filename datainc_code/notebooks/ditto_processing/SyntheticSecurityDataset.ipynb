{
 "cells": [
  {
   "cell_type": "code",
   "execution_count": 1,
   "metadata": {},
   "outputs": [
    {
     "data": {
      "text/plain": [
       "'/home/claude/development/datainc/datainc_code'"
      ]
     },
     "execution_count": 1,
     "metadata": {},
     "output_type": "execute_result"
    }
   ],
   "source": [
    "import os\n",
    "if os.getcwd().split('/')[-1] == 'ditto_processing':\n",
    "    os.chdir('../../')\n",
    "os.getcwd()"
   ]
  },
  {
   "cell_type": "code",
   "execution_count": 2,
   "metadata": {},
   "outputs": [],
   "source": [
    "import pandas as pd\n",
    "import numpy as np\n",
    "from tqdm.auto import tqdm\n"
   ]
  },
  {
   "cell_type": "code",
   "execution_count": 3,
   "metadata": {},
   "outputs": [],
   "source": [
    "entity_data_path = 'data/raw/synthetic_data/seed_0/synthetic_securities_dataset_seed_0_size_984942_sorted.csv'\n",
    "\n",
    "\n",
    "train_matches_path = 'data/processed/synthetic_securities/seed_44/train__pre_split__all_matches.csv'\n",
    "val_matches_path = 'data/processed/synthetic_securities/seed_44/val__pre_split__all_matches.csv'\n",
    "test_matches_path = 'data/processed/synthetic_securities/seed_44/test__pre_split__all_matches.csv'\n",
    "\n",
    "graph_test_candidates_path = 'data/processed/synthetic_securities/full_test_candidates__ditto.csv'"
   ]
  },
  {
   "cell_type": "code",
   "execution_count": 4,
   "metadata": {},
   "outputs": [
    {
     "data": {
      "text/html": [
       "<div>\n",
       "<style scoped>\n",
       "    .dataframe tbody tr th:only-of-type {\n",
       "        vertical-align: middle;\n",
       "    }\n",
       "\n",
       "    .dataframe tbody tr th {\n",
       "        vertical-align: top;\n",
       "    }\n",
       "\n",
       "    .dataframe thead th {\n",
       "        text-align: right;\n",
       "    }\n",
       "</style>\n",
       "<table border=\"1\" class=\"dataframe\">\n",
       "  <thead>\n",
       "    <tr style=\"text-align: right;\">\n",
       "      <th></th>\n",
       "      <th>data_source_id</th>\n",
       "      <th>issuer_id</th>\n",
       "      <th>external_id</th>\n",
       "      <th>name</th>\n",
       "      <th>ISIN</th>\n",
       "      <th>CUSIP</th>\n",
       "      <th>VALOR</th>\n",
       "      <th>SEDOL</th>\n",
       "      <th>primary_currency</th>\n",
       "      <th>type</th>\n",
       "    </tr>\n",
       "  </thead>\n",
       "  <tbody>\n",
       "    <tr>\n",
       "      <th>0</th>\n",
       "      <td>1</td>\n",
       "      <td>10000041</td>\n",
       "      <td>97091953</td>\n",
       "      <td>Portsmith SYS Ordinary Share</td>\n",
       "      <td>US30443RBJG1</td>\n",
       "      <td>30443RBJG</td>\n",
       "      <td>122375411</td>\n",
       "      <td>STFRDE</td>\n",
       "      <td>USD</td>\n",
       "      <td>Ordinary Share</td>\n",
       "    </tr>\n",
       "    <tr>\n",
       "      <th>1</th>\n",
       "      <td>1</td>\n",
       "      <td>10000140</td>\n",
       "      <td>60004107</td>\n",
       "      <td>LAWYEAH! Dividend Rights</td>\n",
       "      <td>ES0486TV0357</td>\n",
       "      <td>NaN</td>\n",
       "      <td>NaN</td>\n",
       "      <td>YNDLPY</td>\n",
       "      <td>Euro</td>\n",
       "      <td>Class A Rights</td>\n",
       "    </tr>\n",
       "    <tr>\n",
       "      <th>2</th>\n",
       "      <td>1</td>\n",
       "      <td>10000140</td>\n",
       "      <td>96954230</td>\n",
       "      <td>LAWYEAH! Ordinary Share</td>\n",
       "      <td>ES7021LZL525</td>\n",
       "      <td>QZ95QFC3G</td>\n",
       "      <td>108782287</td>\n",
       "      <td>BZDUJG</td>\n",
       "      <td>EUR</td>\n",
       "      <td>Ordinary Share</td>\n",
       "    </tr>\n",
       "  </tbody>\n",
       "</table>\n",
       "</div>"
      ],
      "text/plain": [
       "   data_source_id  issuer_id  external_id                          name  \\\n",
       "0               1   10000041     97091953  Portsmith SYS Ordinary Share   \n",
       "1               1   10000140     60004107      LAWYEAH! Dividend Rights   \n",
       "2               1   10000140     96954230       LAWYEAH! Ordinary Share   \n",
       "\n",
       "           ISIN      CUSIP      VALOR   SEDOL primary_currency            type  \n",
       "0  US30443RBJG1  30443RBJG  122375411  STFRDE              USD  Ordinary Share  \n",
       "1  ES0486TV0357        NaN        NaN  YNDLPY             Euro  Class A Rights  \n",
       "2  ES7021LZL525  QZ95QFC3G  108782287  BZDUJG              EUR  Ordinary Share  "
      ]
     },
     "metadata": {},
     "output_type": "display_data"
    },
    {
     "name": "stdout",
     "output_type": "stream",
     "text": [
      "(984942, 10)\n"
     ]
    }
   ],
   "source": [
    "entity_df = pd.read_csv(entity_data_path)\n",
    "entity_df = entity_df.drop(columns=['inserted', 'last_modified'])\n",
    "\n",
    "entity_columns = ['data_source_id', 'issuer_id', 'external_id', 'name', 'ISIN', 'CUSIP', 'VALOR', 'SEDOL', 'primary_currency', 'type']\n",
    "entity_df = entity_df[entity_columns]\n",
    "\n",
    "display(entity_df[:3])\n",
    "print(entity_df.shape)"
   ]
  },
  {
   "cell_type": "code",
   "execution_count": 5,
   "metadata": {},
   "outputs": [],
   "source": [
    "def ditto_encode_record(row):\n",
    "    accu = []\n",
    "    col_names = list(row.index)\n",
    "    if 'id' in col_names:\n",
    "        col_names.remove('id')\n",
    "    if 'ditto_encoded' in col_names:\n",
    "        col_names.remove('ditto_encoded')\n",
    "    if 'Unnamed: 0' in col_names:\n",
    "        col_names.remove('Unnamed: 0')\n",
    "\n",
    "    for col_name in col_names:\n",
    "        value = '-' if pd.isna(row[col_name]) else row[col_name]\n",
    "        accu.append(f\"COL {col_name} VAL {value}\")\n",
    "    return \" \".join(accu)\n",
    "\n",
    "entity_df['ditto_encoded'] = entity_df.apply(ditto_encode_record, axis=1)"
   ]
  },
  {
   "cell_type": "code",
   "execution_count": 6,
   "metadata": {},
   "outputs": [
    {
     "name": "stdout",
     "output_type": "stream",
     "text": [
      "train (4531795)\n",
      "val (1510780)\n",
      "test (1511080)\n",
      "graph_test_candidates (326296)\n"
     ]
    }
   ],
   "source": [
    "data = dict()\n",
    "path_list = [\n",
    "    ('train', train_matches_path),\n",
    "    ('val', val_matches_path),\n",
    "    ('test', test_matches_path),\n",
    "    ('graph_test_candidates', graph_test_candidates_path)\n",
    "]\n",
    "\n",
    "for name, path in path_list:\n",
    "    data[name] = pd.read_csv(path)\n",
    "    \n",
    "    print(f\"{name} ({data[name].shape[0]})\")\n",
    "    #display(data[name][:3])\n"
   ]
  },
  {
   "cell_type": "code",
   "execution_count": 7,
   "metadata": {},
   "outputs": [],
   "source": [
    "def build_ditto_dataset(df, file_path):\n",
    "    if os.path.exists(file_path):\n",
    "        os.remove(file_path)\n",
    "        print(f\"Removed existing file at {file_path}\")\n",
    "    \n",
    "    data = []\n",
    "\n",
    "    for i, row in tqdm(df.iterrows(), total=df.shape[0], desc='Encoding Rows for Ditto...'):\n",
    "        lid, rid, label = row['lid'], row['rid'], row['label']\n",
    "\n",
    "        left_encoded = entity_df.loc[lid, 'ditto_encoded'].replace('\\t', ' ').replace('\\r', ' ').replace('\\n', ' ')\n",
    "        right_encoded = entity_df.loc[rid, 'ditto_encoded'].replace('\\t', ' ').replace('\\r', ' ').replace('\\n', ' ')\n",
    "\n",
    "        data.append(f\"{left_encoded}\\t{right_encoded}\\t{label}\")\n",
    "\n",
    "    with open(file_path, 'w') as f:\n",
    "        for line in tqdm(data, total=len(data), desc='Writing to file...'):\n",
    "            f.write(line)\n",
    "            f.write(os.linesep)\n",
    "\n",
    "    print(f\"Saved at: {file_path}\")"
   ]
  },
  {
   "cell_type": "code",
   "execution_count": 9,
   "metadata": {},
   "outputs": [
    {
     "data": {
      "application/vnd.jupyter.widget-view+json": {
       "model_id": "218ff5f87b1340c48e84e11a69e225e0",
       "version_major": 2,
       "version_minor": 0
      },
      "text/plain": [
       "Encoding Rows for Ditto...:   0%|          | 0/326296 [00:00<?, ?it/s]"
      ]
     },
     "metadata": {},
     "output_type": "display_data"
    },
    {
     "data": {
      "application/vnd.jupyter.widget-view+json": {
       "model_id": "bb41066950714866b72ae68fee4f607b",
       "version_major": 2,
       "version_minor": 0
      },
      "text/plain": [
       "Writing to file...:   0%|          | 0/326296 [00:00<?, ?it/s]"
      ]
     },
     "metadata": {},
     "output_type": "display_data"
    },
    {
     "name": "stdout",
     "output_type": "stream",
     "text": [
      "Saved at: ../datainc_code/data/processed/ditto/finance/synthetic_securities/graph_test_candidates.txt\n"
     ]
    }
   ],
   "source": [
    "os.makedirs('../datainc_code/data/processed/ditto/finance/synthetic_securities', exist_ok=True)\n",
    "\n",
    "#build_ditto_dataset(data['train'], '../datainc_code/data/processed/ditto/finance/synthetic_securities/train.txt')\n",
    "#build_ditto_dataset(data['val'], '../datainc_code/data/processed/ditto/finance/synthetic_securities/val.txt')\n",
    "#build_ditto_dataset(data['test'], '../datainc_code/data/processed/ditto/finance/synthetic_securities/test.txt')\n",
    "\n",
    "build_ditto_dataset(data['graph_test_candidates'], '../datainc_code/data/processed/ditto/finance/synthetic_securities/graph_test_candidates.txt')"
   ]
  },
  {
   "cell_type": "code",
   "execution_count": null,
   "metadata": {},
   "outputs": [],
   "source": []
  }
 ],
 "metadata": {
  "kernelspec": {
   "display_name": "env",
   "language": "python",
   "name": "python3"
  },
  "language_info": {
   "codemirror_mode": {
    "name": "ipython",
    "version": 3
   },
   "file_extension": ".py",
   "mimetype": "text/x-python",
   "name": "python",
   "nbconvert_exporter": "python",
   "pygments_lexer": "ipython3",
   "version": "3.8.10"
  },
  "orig_nbformat": 4
 },
 "nbformat": 4,
 "nbformat_minor": 2
}
