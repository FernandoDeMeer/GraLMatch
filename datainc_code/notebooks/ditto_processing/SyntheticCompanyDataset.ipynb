{
 "cells": [
  {
   "cell_type": "code",
   "execution_count": 1,
   "metadata": {},
   "outputs": [
    {
     "data": {
      "text/plain": [
       "'/home/lehl/development/datainc/datainc_code'"
      ]
     },
     "execution_count": 1,
     "metadata": {},
     "output_type": "execute_result"
    }
   ],
   "source": [
    "import os\n",
    "if os.getcwd().split('/')[-1] == 'ditto_processing':\n",
    "    os.chdir('../../')\n",
    "os.getcwd()"
   ]
  },
  {
   "cell_type": "code",
   "execution_count": 2,
   "metadata": {},
   "outputs": [],
   "source": [
    "import pandas as pd\n",
    "import numpy as np\n",
    "from tqdm.auto import tqdm\n",
    "\n",
    "from scipy.sparse import csr_matrix\n",
    "import swifter\n",
    "\n",
    "import nltk\n",
    "from nltk.corpus import stopwords"
   ]
  },
  {
   "cell_type": "code",
   "execution_count": 9,
   "metadata": {},
   "outputs": [],
   "source": [
    "entity_data_path = 'data/raw/synthetic_data/seed_0/synthetic_companies_dataset_seed_0_size_868254_sorted.csv'\n",
    "\n",
    "#train_matches_path = 'data/raw/synthetic_data/seed_0/companies/train.csv'\n",
    "#val_matches_path = 'data/raw/synthetic_data/seed_0/companies/val.csv'\n",
    "#test_matches_path = 'data/raw/synthetic_data/seed_0/companies/test.csv'\n",
    "\n",
    "train_matches_path = 'data/processed/synthetic_companies/seed_44/train__pre_split__all_matches.csv'\n",
    "test_matches_path = 'data/processed/synthetic_companies/seed_44/test__pre_split__all_matches.csv'\n",
    "val_matches_path = 'data/processed/synthetic_companies/seed_44/valid__pre_split__all_matches.csv'\n",
    "\n",
    "graph_test_candidates_path = 'data/processed/synthetic_companies/full_test_candidates.csv'"
   ]
  },
  {
   "cell_type": "code",
   "execution_count": 4,
   "metadata": {},
   "outputs": [
    {
     "name": "stderr",
     "output_type": "stream",
     "text": [
      "/tmp/ipykernel_4789/3314056799.py:1: DtypeWarning: Columns (4) have mixed types. Specify dtype option on import or set low_memory=False.\n",
      "  entity_df = pd.read_csv(entity_data_path)\n"
     ]
    },
    {
     "data": {
      "text/html": [
       "<div>\n",
       "<style scoped>\n",
       "    .dataframe tbody tr th:only-of-type {\n",
       "        vertical-align: middle;\n",
       "    }\n",
       "\n",
       "    .dataframe tbody tr th {\n",
       "        vertical-align: top;\n",
       "    }\n",
       "\n",
       "    .dataframe thead th {\n",
       "        text-align: right;\n",
       "    }\n",
       "</style>\n",
       "<table border=\"1\" class=\"dataframe\">\n",
       "  <thead>\n",
       "    <tr style=\"text-align: right;\">\n",
       "      <th></th>\n",
       "      <th>data_source_id</th>\n",
       "      <th>external_id</th>\n",
       "      <th>name</th>\n",
       "      <th>city</th>\n",
       "      <th>region</th>\n",
       "      <th>country_code</th>\n",
       "      <th>short_description</th>\n",
       "    </tr>\n",
       "  </thead>\n",
       "  <tbody>\n",
       "    <tr>\n",
       "      <th>0</th>\n",
       "      <td>1</td>\n",
       "      <td>10000041</td>\n",
       "      <td>Portsmith SYS</td>\n",
       "      <td>Boise</td>\n",
       "      <td>Idaho</td>\n",
       "      <td>US</td>\n",
       "      <td>Design and manufacture of innovative enterpris...</td>\n",
       "    </tr>\n",
       "    <tr>\n",
       "      <th>1</th>\n",
       "      <td>1</td>\n",
       "      <td>10000140</td>\n",
       "      <td>LAWYEAH!</td>\n",
       "      <td>Madrid</td>\n",
       "      <td>Madrid</td>\n",
       "      <td>ESP</td>\n",
       "      <td>LawYeah! provides tools and legal services onl...</td>\n",
       "    </tr>\n",
       "    <tr>\n",
       "      <th>2</th>\n",
       "      <td>1</td>\n",
       "      <td>10000426</td>\n",
       "      <td>Reportive Prof. Co.</td>\n",
       "      <td>NaN</td>\n",
       "      <td>NaN</td>\n",
       "      <td>NaN</td>\n",
       "      <td>Reportive Prof. Co..in is News and Media websi...</td>\n",
       "    </tr>\n",
       "  </tbody>\n",
       "</table>\n",
       "</div>"
      ],
      "text/plain": [
       "   data_source_id  external_id                 name    city  region  \\\n",
       "0               1     10000041        Portsmith SYS   Boise   Idaho   \n",
       "1               1     10000140             LAWYEAH!  Madrid  Madrid   \n",
       "2               1     10000426  Reportive Prof. Co.     NaN     NaN   \n",
       "\n",
       "  country_code                                  short_description  \n",
       "0           US  Design and manufacture of innovative enterpris...  \n",
       "1          ESP  LawYeah! provides tools and legal services onl...  \n",
       "2          NaN  Reportive Prof. Co..in is News and Media websi...  "
      ]
     },
     "metadata": {},
     "output_type": "display_data"
    },
    {
     "name": "stdout",
     "output_type": "stream",
     "text": [
      "(868254, 7)\n"
     ]
    }
   ],
   "source": [
    "entity_df = pd.read_csv(entity_data_path)\n",
    "entity_df = entity_df.drop(columns=['inserted', 'last_modified'])\n",
    "\n",
    "entity_columns = [\n",
    "    'data_source_id', 'external_id',\n",
    "    'name', 'city', 'region', 'country_code',\n",
    "    'short_description'\n",
    "]\n",
    "entity_df = entity_df[entity_columns]\n",
    "\n",
    "display(entity_df[:3])\n",
    "print(entity_df.shape)"
   ]
  },
  {
   "cell_type": "code",
   "execution_count": 5,
   "metadata": {},
   "outputs": [
    {
     "data": {
      "application/vnd.jupyter.widget-view+json": {
       "model_id": "ee88122454e64e6fa1250d2c960acfa8",
       "version_major": 2,
       "version_minor": 0
      },
      "text/plain": [
       "Dask Apply:   0%|          | 0/16 [00:00<?, ?it/s]"
      ]
     },
     "metadata": {},
     "output_type": "display_data"
    },
    {
     "data": {
      "text/html": [
       "<div>\n",
       "<style scoped>\n",
       "    .dataframe tbody tr th:only-of-type {\n",
       "        vertical-align: middle;\n",
       "    }\n",
       "\n",
       "    .dataframe tbody tr th {\n",
       "        vertical-align: top;\n",
       "    }\n",
       "\n",
       "    .dataframe thead th {\n",
       "        text-align: right;\n",
       "    }\n",
       "</style>\n",
       "<table border=\"1\" class=\"dataframe\">\n",
       "  <thead>\n",
       "    <tr style=\"text-align: right;\">\n",
       "      <th></th>\n",
       "      <th>data_source_id</th>\n",
       "      <th>external_id</th>\n",
       "      <th>name</th>\n",
       "      <th>city</th>\n",
       "      <th>region</th>\n",
       "      <th>country_code</th>\n",
       "      <th>short_description</th>\n",
       "    </tr>\n",
       "  </thead>\n",
       "  <tbody>\n",
       "    <tr>\n",
       "      <th>0</th>\n",
       "      <td>1</td>\n",
       "      <td>10000041</td>\n",
       "      <td>Portsmith SYS</td>\n",
       "      <td>Boise</td>\n",
       "      <td>Idaho</td>\n",
       "      <td>US</td>\n",
       "      <td>Design manufacture innovative enterprise produ...</td>\n",
       "    </tr>\n",
       "    <tr>\n",
       "      <th>1</th>\n",
       "      <td>1</td>\n",
       "      <td>10000140</td>\n",
       "      <td>LAWYEAH!</td>\n",
       "      <td>Madrid</td>\n",
       "      <td>Madrid</td>\n",
       "      <td>ESP</td>\n",
       "      <td>LawYeah! provides tools legal services online ...</td>\n",
       "    </tr>\n",
       "    <tr>\n",
       "      <th>2</th>\n",
       "      <td>1</td>\n",
       "      <td>10000426</td>\n",
       "      <td>Reportive Prof. Co.</td>\n",
       "      <td>NaN</td>\n",
       "      <td>NaN</td>\n",
       "      <td>NaN</td>\n",
       "      <td>Reportive Prof. Co..in News Media website cove...</td>\n",
       "    </tr>\n",
       "  </tbody>\n",
       "</table>\n",
       "</div>"
      ],
      "text/plain": [
       "   data_source_id  external_id                 name    city  region  \\\n",
       "0               1     10000041        Portsmith SYS   Boise   Idaho   \n",
       "1               1     10000140             LAWYEAH!  Madrid  Madrid   \n",
       "2               1     10000426  Reportive Prof. Co.     NaN     NaN   \n",
       "\n",
       "  country_code                                  short_description  \n",
       "0           US  Design manufacture innovative enterprise produ...  \n",
       "1          ESP  LawYeah! provides tools legal services online ...  \n",
       "2          NaN  Reportive Prof. Co..in News Media website cove...  "
      ]
     },
     "metadata": {},
     "output_type": "display_data"
    }
   ],
   "source": [
    "def remove_stopwords(text):\n",
    "    words = str(text).split()\n",
    "    filtered_words = [word for word in words if word.lower() not in stopwords.words('english')]\n",
    "    return ' '.join(filtered_words)\n",
    "\n",
    "entity_df['short_description'] = entity_df['short_description'] \\\n",
    "    .swifter \\\n",
    "    .allow_dask_on_strings(True) \\\n",
    "    .apply(remove_stopwords)\n",
    "\n",
    "display(entity_df[:3])"
   ]
  },
  {
   "cell_type": "code",
   "execution_count": 6,
   "metadata": {},
   "outputs": [
    {
     "data": {
      "application/vnd.jupyter.widget-view+json": {
       "model_id": "9451b798e0724e5db4bc3fef794b19e0",
       "version_major": 2,
       "version_minor": 0
      },
      "text/plain": [
       "Pandas Apply:   0%|          | 0/868254 [00:00<?, ?it/s]"
      ]
     },
     "metadata": {},
     "output_type": "display_data"
    }
   ],
   "source": [
    "def ditto_encode_record(row):\n",
    "    accu = []\n",
    "    col_names = list(row.index)\n",
    "    if 'id' in col_names:\n",
    "        col_names.remove('id')\n",
    "    if 'ditto_encoded' in col_names:\n",
    "        col_names.remove('ditto_encoded')\n",
    "    if 'Unnamed: 0' in col_names:\n",
    "        col_names.remove('Unnamed: 0')\n",
    "\n",
    "    for col_name in col_names:\n",
    "        value = '-' if pd.isna(row[col_name]) else row[col_name]\n",
    "        accu.append(f\"COL {col_name} VAL {value}\")\n",
    "    return \" \".join(accu)\n",
    "\n",
    "entity_df['ditto_encoded'] = entity_df.swifter.apply(ditto_encode_record, axis=1)"
   ]
  },
  {
   "cell_type": "code",
   "execution_count": 10,
   "metadata": {},
   "outputs": [
    {
     "name": "stdout",
     "output_type": "stream",
     "text": [
      "train (4500400)\n",
      "val (1499495)\n",
      "test (1499495)\n",
      "graph_test_candidates (1140674)\n"
     ]
    }
   ],
   "source": [
    "data = dict()\n",
    "path_list = [\n",
    "    ('train', train_matches_path),\n",
    "    ('val', val_matches_path),\n",
    "    ('test', test_matches_path),\n",
    "    ('graph_test_candidates', graph_test_candidates_path)\n",
    "]\n",
    "\n",
    "for name, path in path_list:\n",
    "    data[name] = pd.read_csv(path)\n",
    "\n",
    "    if 'Unnamed: 0' in data[name].columns:\n",
    "        data[name] = data[name].drop(columns=['Unnamed: 0'])\n",
    "    \n",
    "    print(f\"{name} ({data[name].shape[0]})\")\n",
    "    #display(data[name][:3])\n"
   ]
  },
  {
   "cell_type": "code",
   "execution_count": 77,
   "metadata": {},
   "outputs": [],
   "source": [
    "def _generate_sparse_match_matrix(df: pd.DataFrame, max_id=None):\n",
    "    if not max_id:\n",
    "        max_id = np.max(df[['lid', 'rid']].max().to_numpy())\n",
    "    data = np.ones(len(df), dtype=np.bool_)\n",
    "    rows = df['lid']\n",
    "    cols = df['rid']\n",
    "\n",
    "    # Instantiated with both row-col and col-row, to include\n",
    "    # both variants (A,B) and (B,A) as \"already taken\"\n",
    "    #\n",
    "    sparse_data = np.concatenate([data, data])\n",
    "    sparse_row_ind = np.concatenate([rows, cols])\n",
    "    sparse_col_ind = np.concatenate([cols, rows])\n",
    "    sparse_matrix = csr_matrix((sparse_data, (sparse_row_ind, sparse_col_ind)), shape=(max_id + 1, max_id + 1))\n",
    "\n",
    "    return sparse_matrix, max_id"
   ]
  },
  {
   "cell_type": "code",
   "execution_count": 78,
   "metadata": {},
   "outputs": [
    {
     "data": {
      "text/plain": [
       "<868254x868254 sparse matrix of type '<class 'numpy.bool_'>'\n",
       "\twith 7199856 stored elements in Compressed Sparse Row format>"
      ]
     },
     "execution_count": 78,
     "metadata": {},
     "output_type": "execute_result"
    }
   ],
   "source": [
    "df_test = data['test']\n",
    "df_train = data['train']\n",
    "df_val = data['val']\n",
    "\n",
    "validation_idxs = np.array(sorted(set(df_val[df_val['label'] == 1]['lid'].tolist() + df_val[df_val['label'] == 1]['rid'].tolist())))\n",
    "\n",
    "# Calculate the maximum index in the datasets\n",
    "max_id = entity_df.shape[0] - 1\n",
    "\n",
    "m1, _ = _generate_sparse_match_matrix(df_train, max_id=max_id)\n",
    "m2, _ = _generate_sparse_match_matrix(df_val, max_id=max_id)\n",
    "m3, _ = _generate_sparse_match_matrix(df_test, max_id=max_id)\n",
    "match_matrix = m1 + m2 + m3\n",
    "match_matrix"
   ]
  },
  {
   "cell_type": "code",
   "execution_count": 79,
   "metadata": {},
   "outputs": [
    {
     "data": {
      "application/vnd.jupyter.widget-view+json": {
       "model_id": "6df5ad8d74d94b5d9076af719a10baae",
       "version_major": 2,
       "version_minor": 0
      },
      "text/plain": [
       "[test] Building random nonmatches for the validation set...:   0%|          | 0/1199597 [00:00<?, ?it/s]"
      ]
     },
     "metadata": {},
     "output_type": "display_data"
    },
    {
     "data": {
      "text/html": [
       "<div>\n",
       "<style scoped>\n",
       "    .dataframe tbody tr th:only-of-type {\n",
       "        vertical-align: middle;\n",
       "    }\n",
       "\n",
       "    .dataframe tbody tr th {\n",
       "        vertical-align: top;\n",
       "    }\n",
       "\n",
       "    .dataframe thead th {\n",
       "        text-align: right;\n",
       "    }\n",
       "</style>\n",
       "<table border=\"1\" class=\"dataframe\">\n",
       "  <thead>\n",
       "    <tr style=\"text-align: right;\">\n",
       "      <th></th>\n",
       "      <th>lid</th>\n",
       "      <th>rid</th>\n",
       "      <th>label</th>\n",
       "    </tr>\n",
       "  </thead>\n",
       "  <tbody>\n",
       "    <tr>\n",
       "      <th>0</th>\n",
       "      <td>685300</td>\n",
       "      <td>473333</td>\n",
       "      <td>0</td>\n",
       "    </tr>\n",
       "    <tr>\n",
       "      <th>1</th>\n",
       "      <td>473333</td>\n",
       "      <td>685300</td>\n",
       "      <td>0</td>\n",
       "    </tr>\n",
       "    <tr>\n",
       "      <th>2</th>\n",
       "      <td>283485</td>\n",
       "      <td>730027</td>\n",
       "      <td>0</td>\n",
       "    </tr>\n",
       "    <tr>\n",
       "      <th>3</th>\n",
       "      <td>730027</td>\n",
       "      <td>283485</td>\n",
       "      <td>0</td>\n",
       "    </tr>\n",
       "    <tr>\n",
       "      <th>4</th>\n",
       "      <td>33318</td>\n",
       "      <td>519900</td>\n",
       "      <td>0</td>\n",
       "    </tr>\n",
       "    <tr>\n",
       "      <th>...</th>\n",
       "      <td>...</td>\n",
       "      <td>...</td>\n",
       "      <td>...</td>\n",
       "    </tr>\n",
       "    <tr>\n",
       "      <th>1199591</th>\n",
       "      <td>213256</td>\n",
       "      <td>389879</td>\n",
       "      <td>0</td>\n",
       "    </tr>\n",
       "    <tr>\n",
       "      <th>1199592</th>\n",
       "      <td>379415</td>\n",
       "      <td>235486</td>\n",
       "      <td>0</td>\n",
       "    </tr>\n",
       "    <tr>\n",
       "      <th>1199593</th>\n",
       "      <td>235486</td>\n",
       "      <td>379415</td>\n",
       "      <td>0</td>\n",
       "    </tr>\n",
       "    <tr>\n",
       "      <th>1199594</th>\n",
       "      <td>219178</td>\n",
       "      <td>384737</td>\n",
       "      <td>0</td>\n",
       "    </tr>\n",
       "    <tr>\n",
       "      <th>1199595</th>\n",
       "      <td>384737</td>\n",
       "      <td>219178</td>\n",
       "      <td>0</td>\n",
       "    </tr>\n",
       "  </tbody>\n",
       "</table>\n",
       "<p>1199596 rows × 3 columns</p>\n",
       "</div>"
      ],
      "text/plain": [
       "            lid     rid  label\n",
       "0        685300  473333      0\n",
       "1        473333  685300      0\n",
       "2        283485  730027      0\n",
       "3        730027  283485      0\n",
       "4         33318  519900      0\n",
       "...         ...     ...    ...\n",
       "1199591  213256  389879      0\n",
       "1199592  379415  235486      0\n",
       "1199593  235486  379415      0\n",
       "1199594  219178  384737      0\n",
       "1199595  384737  219178      0\n",
       "\n",
       "[1199596 rows x 3 columns]"
      ]
     },
     "execution_count": 79,
     "metadata": {},
     "output_type": "execute_result"
    }
   ],
   "source": [
    "num_nonmatches_to_generate = df_val.shape[0] * 4\n",
    "result = list()\n",
    "\n",
    "pbar = tqdm(total=num_nonmatches_to_generate + 1,\n",
    "            desc=f'[{name}] Building random nonmatches for the validation set...')\n",
    "\n",
    "while len(result) < num_nonmatches_to_generate:\n",
    "    row_id = np.random.choice(validation_idxs)\n",
    "    col_id = np.random.randint(0, match_matrix.shape[1] - 1)\n",
    "\n",
    "    if match_matrix[row_id, col_id] == 0:\n",
    "        result.append((row_id, col_id))\n",
    "        result.append((col_id, row_id))\n",
    "        pbar.update(2)\n",
    "\n",
    "pbar.close()\n",
    "\n",
    "df_nonmatches = pd.DataFrame(result, columns=['lid', 'rid'])\n",
    "df_nonmatches['label'] = 0\n",
    "df_nonmatches"
   ]
  },
  {
   "cell_type": "code",
   "execution_count": 82,
   "metadata": {},
   "outputs": [
    {
     "data": {
      "text/html": [
       "<div>\n",
       "<style scoped>\n",
       "    .dataframe tbody tr th:only-of-type {\n",
       "        vertical-align: middle;\n",
       "    }\n",
       "\n",
       "    .dataframe tbody tr th {\n",
       "        vertical-align: top;\n",
       "    }\n",
       "\n",
       "    .dataframe thead th {\n",
       "        text-align: right;\n",
       "    }\n",
       "</style>\n",
       "<table border=\"1\" class=\"dataframe\">\n",
       "  <thead>\n",
       "    <tr style=\"text-align: right;\">\n",
       "      <th></th>\n",
       "      <th>lid</th>\n",
       "      <th>rid</th>\n",
       "      <th>label</th>\n",
       "    </tr>\n",
       "  </thead>\n",
       "  <tbody>\n",
       "    <tr>\n",
       "      <th>0</th>\n",
       "      <td>192336</td>\n",
       "      <td>360983</td>\n",
       "      <td>1</td>\n",
       "    </tr>\n",
       "    <tr>\n",
       "      <th>1</th>\n",
       "      <td>192336</td>\n",
       "      <td>419579</td>\n",
       "      <td>1</td>\n",
       "    </tr>\n",
       "    <tr>\n",
       "      <th>2</th>\n",
       "      <td>192336</td>\n",
       "      <td>548537</td>\n",
       "      <td>1</td>\n",
       "    </tr>\n",
       "  </tbody>\n",
       "</table>\n",
       "</div>"
      ],
      "text/plain": [
       "      lid     rid  label\n",
       "0  192336  360983      1\n",
       "1  192336  419579      1\n",
       "2  192336  548537      1"
      ]
     },
     "metadata": {},
     "output_type": "display_data"
    }
   ],
   "source": [
    "df_val__with_nonmatches = pd.concat([df_val, df_nonmatches]).reset_index(drop=True)\n",
    "df_val__with_nonmatches.to_csv('data/processed/synthetic_companies/seed_44/valid__pre_split__all_matches.csv', index=False)\n",
    "display(df_val__with_nonmatches[:3])\n"
   ]
  },
  {
   "cell_type": "code",
   "execution_count": 12,
   "metadata": {},
   "outputs": [],
   "source": [
    "def build_ditto_dataset(df, file_path):\n",
    "    if os.path.exists(file_path):\n",
    "        os.remove(file_path)\n",
    "        print(f\"Removed existing file at {file_path}\")\n",
    "    \n",
    "    data = []\n",
    "\n",
    "    for i, row in tqdm(df.iterrows(), total=df.shape[0], desc='Encoding Rows for Ditto...'):\n",
    "        lid, rid, label = row['lid'], row['rid'], row['label']\n",
    "\n",
    "        left_encoded = entity_df.loc[lid, 'ditto_encoded'].replace('\\t', ' ').replace('\\r', ' ').replace('\\n', ' ')\n",
    "        right_encoded = entity_df.loc[rid, 'ditto_encoded'].replace('\\t', ' ').replace('\\r', ' ').replace('\\n', ' ')\n",
    "\n",
    "        data.append(f\"{left_encoded}\\t{right_encoded}\\t{label}\")\n",
    "\n",
    "    with open(file_path, 'w') as f:\n",
    "        for line in tqdm(data, total=len(data), desc='Writing to file...'):\n",
    "            f.write(line)\n",
    "            f.write(os.linesep)\n",
    "\n",
    "    print(f\"Saved at: {file_path}\")"
   ]
  },
  {
   "cell_type": "code",
   "execution_count": 13,
   "metadata": {},
   "outputs": [
    {
     "data": {
      "application/vnd.jupyter.widget-view+json": {
       "model_id": "c36f754976a54e2aabb837cf5758cef8",
       "version_major": 2,
       "version_minor": 0
      },
      "text/plain": [
       "Encoding Rows for Ditto...:   0%|          | 0/1140674 [00:00<?, ?it/s]"
      ]
     },
     "metadata": {},
     "output_type": "display_data"
    },
    {
     "data": {
      "application/vnd.jupyter.widget-view+json": {
       "model_id": "e9cfd9cecad341649805f9888afbde02",
       "version_major": 2,
       "version_minor": 0
      },
      "text/plain": [
       "Writing to file...:   0%|          | 0/1140674 [00:00<?, ?it/s]"
      ]
     },
     "metadata": {},
     "output_type": "display_data"
    },
    {
     "name": "stdout",
     "output_type": "stream",
     "text": [
      "Saved at: ../datainc_code/data/processed/ditto/finance/synthetic_companies/graph_test_candidates.txt\n"
     ]
    }
   ],
   "source": [
    "os.makedirs('../datainc_code/data/processed/ditto/finance/synthetic_companies', exist_ok=True)\n",
    "\n",
    "#build_ditto_dataset(data['train'], '../datainc_code/data/processed/ditto/finance/synthetic_companies/train.txt')\n",
    "#build_ditto_dataset(data['val'], '../datainc_code/data/processed/ditto/finance/synthetic_companies/val.txt')\n",
    "#build_ditto_dataset(data['test'], '../datainc_code/data/processed/ditto/finance/synthetic_companies/test.txt')\n",
    "\n",
    "build_ditto_dataset(data['graph_test_candidates'], '../datainc_code/data/processed/ditto/finance/synthetic_companies/graph_test_candidates.txt')\n"
   ]
  },
  {
   "cell_type": "code",
   "execution_count": null,
   "metadata": {},
   "outputs": [],
   "source": []
  }
 ],
 "metadata": {
  "kernelspec": {
   "display_name": "env",
   "language": "python",
   "name": "python3"
  },
  "language_info": {
   "codemirror_mode": {
    "name": "ipython",
    "version": 3
   },
   "file_extension": ".py",
   "mimetype": "text/x-python",
   "name": "python",
   "nbconvert_exporter": "python",
   "pygments_lexer": "ipython3",
   "version": "3.8.10"
  },
  "orig_nbformat": 4
 },
 "nbformat": 4,
 "nbformat_minor": 2
}
